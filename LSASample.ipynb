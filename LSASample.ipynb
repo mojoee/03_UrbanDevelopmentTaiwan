{
 "cells": [
  {
   "cell_type": "code",
   "execution_count": 29,
   "metadata": {},
   "outputs": [],
   "source": [
    "#import modules\n",
    "# https://www.datacamp.com/tutorial/discovering-hidden-topics-python\n",
    "import os.path\n",
    "import nltk\n",
    "from gensim import corpora\n",
    "from gensim.models import LsiModel\n",
    "from nltk.tokenize import RegexpTokenizer\n",
    "from nltk.corpus import stopwords\n",
    "from nltk.stem.porter import PorterStemmer\n",
    "from gensim.models.coherencemodel import CoherenceModel\n",
    "import matplotlib.pyplot as plt\n"
   ]
  },
  {
   "cell_type": "code",
   "execution_count": 31,
   "metadata": {},
   "outputs": [
    {
     "data": {
      "text/plain": [
       "\"Barclays' defiance of US fines has merit Barclays disgraced itself in many ways during \\nthe pre-financial crisis boom years. So it is tempting to think the bank, when asked by \\nUS Department of Justice to pay a large bill for polluting the financial system with \\nmortgage junk between 2005 and 2007, should cough up, apologise and learn some humility.\\n That is not the view of the chief executive, Jes Staley. \\n Barclays thinks the DoJâ€™s claims are â€œdisconnected from the factsâ€\\x9d \\n and that it has â€œan obligation to our shareholders, customers, clients and employees \\n to defend ourselves against unreasonable allegations and demands.â€\\x9d \\n The stance is possibly foolhardy, since going into open legal battle with \\n the most powerful US prosecutor is risky, especially if you end up losing. \\n But actually, some grudging respect for Staley and Barclays is in order. \\n The US system for dishing out fines to errant banks for their mortgage \\n sins has come to resemble a casino. The approach prefers settlements behind \\n closed doors and the difference in size of penalties is never explained. \\n Occasional leaks of the negotiating demands make the methodology appear even \\n more arbitrary. Deutsche Bank was initially asked for $14bn (Â£11.5bn), \\n but reached a settlement of $7.2bn on Thursday. Where is the rhyme or reason? \\n There is also a strong suspicion that the roulette wheel is weighted against the Europeans. \\n US banks, in the forms of JP Morgan, Goldman Sachs, Morgan Stanley, Bank of America and Citi, \\n were at the front of the queue for settlement for no obvious reason. If Barclays created \\n and distributed far fewer toxic mortgage securities than its US rivals, which is what the \\n bank argues, why shouldnâ€™t its fine be proportionately smaller? Neither Barclays nor the \\n DoJ is talking hard numbers. But Barclays, it is said, was asked for $4bn, versus its own \\n analysis that a fair sum would be $1bn and $2bn could have been swallowed for the sake of \\n certainty. When the gap is so wide, Barclays is entitled to take its chances in court â€“ \\n and yes, it probably has an obligation to do so. A board canâ€™t let $2bn slip out of the \\n door just for the sake of a quiet life. The case will be messy, inevitably. Barclaysâ€™ \\n practices were â€œplainly irresponsible and dishonest,â€\\x9d according to Loretta Lynch,\\n the US attorney general. There is also a cache of ugly emails and documents. The DoJ \\n lawsuit says Barclays employees called one parcel of securitised loans â€œcraptacularâ€\\x9d. \\n Another was said to â€œlook like shitâ€\\x9d. However, that is almost par for the course in \\n these cases. The central question is the right size of penalty. If Barclays thinks it has \\n been singled out for unduly harsh treatment, the bank should try to prove its case. \\n Staley will look like a fool if he fails, but the willingness to reject the easy option \\n of settling is entirely legitimate.\""
      ]
     },
     "execution_count": 31,
     "metadata": {},
     "output_type": "execute_result"
    }
   ],
   "source": [
    "# one observation\n",
    "'''Barclays' defiance of US fines has merit Barclays disgraced itself in many ways during \n",
    "the pre-financial crisis boom years. So it is tempting to think the bank, when asked by \n",
    "US Department of Justice to pay a large bill for polluting the financial system with \n",
    "mortgage junk between 2005 and 2007, should cough up, apologise and learn some humility.\n",
    " That is not the view of the chief executive, Jes Staley. \n",
    " Barclays thinks the DoJâ€™s claims are â€œdisconnected from the factsâ€ \n",
    " and that it has â€œan obligation to our shareholders, customers, clients and employees \n",
    " to defend ourselves against unreasonable allegations and demands.â€ \n",
    " The stance is possibly foolhardy, since going into open legal battle with \n",
    " the most powerful US prosecutor is risky, especially if you end up losing. \n",
    " But actually, some grudging respect for Staley and Barclays is in order. \n",
    " The US system for dishing out fines to errant banks for their mortgage \n",
    " sins has come to resemble a casino. The approach prefers settlements behind \n",
    " closed doors and the difference in size of penalties is never explained. \n",
    " Occasional leaks of the negotiating demands make the methodology appear even \n",
    " more arbitrary. Deutsche Bank was initially asked for $14bn (Â£11.5bn), \n",
    " but reached a settlement of $7.2bn on Thursday. Where is the rhyme or reason? \n",
    " There is also a strong suspicion that the roulette wheel is weighted against the Europeans. \n",
    " US banks, in the forms of JP Morgan, Goldman Sachs, Morgan Stanley, Bank of America and Citi, \n",
    " were at the front of the queue for settlement for no obvious reason. If Barclays created \n",
    " and distributed far fewer toxic mortgage securities than its US rivals, which is what the \n",
    " bank argues, why shouldnâ€™t its fine be proportionately smaller? Neither Barclays nor the \n",
    " DoJ is talking hard numbers. But Barclays, it is said, was asked for $4bn, versus its own \n",
    " analysis that a fair sum would be $1bn and $2bn could have been swallowed for the sake of \n",
    " certainty. When the gap is so wide, Barclays is entitled to take its chances in court â€“ \n",
    " and yes, it probably has an obligation to do so. A board canâ€™t let $2bn slip out of the \n",
    " door just for the sake of a quiet life. The case will be messy, inevitably. Barclaysâ€™ \n",
    " practices were â€œplainly irresponsible and dishonest,â€ according to Loretta Lynch,\n",
    " the US attorney general. There is also a cache of ugly emails and documents. The DoJ \n",
    " lawsuit says Barclays employees called one parcel of securitised loans â€œcraptacularâ€. \n",
    " Another was said to â€œlook like shitâ€. However, that is almost par for the course in \n",
    " these cases. The central question is the right size of penalty. If Barclays thinks it has \n",
    " been singled out for unduly harsh treatment, the bank should try to prove its case. \n",
    " Staley will look like a fool if he fails, but the willingness to reject the easy option \n",
    " of settling is entirely legitimate.'''\n"
   ]
  },
  {
   "cell_type": "code",
   "execution_count": 32,
   "metadata": {},
   "outputs": [
    {
     "name": "stderr",
     "output_type": "stream",
     "text": [
      "[nltk_data] Downloading package stopwords to /Users/ma012/nltk_data...\n",
      "[nltk_data]   Package stopwords is already up-to-date!\n"
     ]
    },
    {
     "data": {
      "text/plain": [
       "True"
      ]
     },
     "execution_count": 32,
     "metadata": {},
     "output_type": "execute_result"
    }
   ],
   "source": [
    "#download stopwords\n",
    "nltk.download('stopwords')\n"
   ]
  },
  {
   "cell_type": "code",
   "execution_count": 41,
   "metadata": {},
   "outputs": [],
   "source": [
    "def load_data(path,file_name):\n",
    "    \"\"\"\n",
    "    Input  : path and file_name\n",
    "    Purpose: loading text file\n",
    "    Output : list of paragraphs/documents and\n",
    "             title(initial 100 words considred as title of document)\n",
    "    \"\"\"\n",
    "    documents_list = []\n",
    "    titles=[]\n",
    "    with open( os.path.join(path, file_name) ,\"r\") as fin:\n",
    "        for line in fin.readlines():\n",
    "            text = line.strip()\n",
    "            documents_list.append(text)\n",
    "            titles.append( text[0:min(len(text),100)] )\n",
    "    print(\"Total Number of Documents:\",len(documents_list))\n",
    "    return documents_list,titles"
   ]
  },
  {
   "cell_type": "code",
   "execution_count": 42,
   "metadata": {},
   "outputs": [],
   "source": [
    "def preprocess_data(doc_set):\n",
    "    \"\"\"\n",
    "    Input  : docuemnt list\n",
    "    Purpose: preprocess text (tokenize, removing stopwords, and stemming)\n",
    "    Output : preprocessed text\n",
    "    \"\"\"\n",
    "    # initialize regex tokenizer\n",
    "    tokenizer = RegexpTokenizer(r'\\w+')\n",
    "    # create English stop words list\n",
    "    en_stop = set(stopwords.words('english'))\n",
    "    # Create p_stemmer of class PorterStemmer\n",
    "    p_stemmer = PorterStemmer()\n",
    "    # list for tokenized documents in loop\n",
    "    texts = []\n",
    "    # loop through document list\n",
    "    for i in doc_set:\n",
    "        # clean and tokenize document string\n",
    "        raw = i.lower()\n",
    "        tokens = tokenizer.tokenize(raw)\n",
    "        # remove stop words from tokens\n",
    "        stopped_tokens = [i for i in tokens if not i in en_stop]\n",
    "        # stem tokens\n",
    "        stemmed_tokens = [p_stemmer.stem(i) for i in stopped_tokens]\n",
    "        # add tokens to list\n",
    "        texts.append(stemmed_tokens)\n",
    "    return texts\n"
   ]
  },
  {
   "cell_type": "code",
   "execution_count": 43,
   "metadata": {},
   "outputs": [],
   "source": [
    "def prepare_corpus(doc_clean):\n",
    "    \"\"\"\n",
    "    Input  : clean document\n",
    "    Purpose: create term dictionary of our courpus and Converting list of documents (corpus) into Document Term Matrix\n",
    "    Output : term dictionary and Document Term Matrix\n",
    "    \"\"\"\n",
    "    # Creating the term dictionary of our courpus, where every unique term is assigned an index. dictionary = corpora.Dictionary(doc_clean)\n",
    "    dictionary = corpora.Dictionary(doc_clean)\n",
    "    # Converting list of documents (corpus) into Document Term Matrix using dictionary prepared above.\n",
    "    doc_term_matrix = [dictionary.doc2bow(doc) for doc in doc_clean]\n",
    "    # generate LDA model\n",
    "    return dictionary,doc_term_matrix\n"
   ]
  },
  {
   "cell_type": "code",
   "execution_count": 44,
   "metadata": {},
   "outputs": [],
   "source": [
    "def create_gensim_lsa_model(doc_clean,number_of_topics,words):\n",
    "    \"\"\"\n",
    "    Input  : clean document, number of topics and number of words associated with each topic\n",
    "    Purpose: create LSA model using gensim\n",
    "    Output : return LSA model\n",
    "    \"\"\"\n",
    "    dictionary,doc_term_matrix=prepare_corpus(doc_clean)\n",
    "    # generate LSA model\n",
    "    lsamodel = LsiModel(doc_term_matrix, num_topics=number_of_topics, id2word = dictionary)  # train model\n",
    "    print(lsamodel.print_topics(num_topics=number_of_topics, num_words=words))\n",
    "    return lsamodel\n"
   ]
  },
  {
   "cell_type": "code",
   "execution_count": 45,
   "metadata": {},
   "outputs": [],
   "source": [
    "def compute_coherence_values(dictionary, doc_term_matrix, doc_clean, stop, start=2, step=3):\n",
    "    \"\"\"\n",
    "    Input   : dictionary : Gensim dictionary\n",
    "              corpus : Gensim corpus\n",
    "              texts : List of input texts\n",
    "              stop : Max num of topics\n",
    "    purpose : Compute c_v coherence for various number of topics\n",
    "    Output  : model_list : List of LSA topic models\n",
    "              coherence_values : Coherence values corresponding to the LDA model with respective number of topics\n",
    "    \"\"\"\n",
    "    coherence_values = []\n",
    "    model_list = []\n",
    "    for num_topics in range(start, stop, step):\n",
    "        # generate LSA model\n",
    "        model = LsiModel(doc_term_matrix, num_topics=number_of_topics, id2word = dictionary)  # train model\n",
    "        model_list.append(model)\n",
    "        coherencemodel = CoherenceModel(model=model, texts=doc_clean, dictionary=dictionary, coherence='c_v')\n",
    "        coherence_values.append(coherencemodel.get_coherence())\n",
    "    return model_list, coherence_values"
   ]
  },
  {
   "cell_type": "code",
   "execution_count": 49,
   "metadata": {},
   "outputs": [
    {
     "name": "stdout",
     "output_type": "stream",
     "text": [
      "Total Number of Documents: 4551\n"
     ]
    },
    {
     "data": {
      "image/png": "[encoded data removed]",
      "text/plain": [
       "<Figure size 640x480 with 1 Axes>"
      ]
     },
     "metadata": {},
     "output_type": "display_data"
    }
   ],
   "source": [
    "def plot_graph(doc_clean,start, stop, step):\n",
    "    dictionary,doc_term_matrix=prepare_corpus(doc_clean)\n",
    "    model_list, coherence_values = compute_coherence_values(dictionary, doc_term_matrix,doc_clean,\n",
    "                                                            stop, start, step)\n",
    "    # Show graph\n",
    "    x = range(start, stop, step)\n",
    "    plt.plot(x, coherence_values)\n",
    "    plt.xlabel(\"Number of Topics\")\n",
    "    plt.ylabel(\"Coherence score\")\n",
    "    plt.legend((\"coherence_values\"), loc='best')\n",
    "    plt.show()\n",
    "\n",
    "document_list,titles=load_data(\"./data\",\"LSASample.txt\")\n",
    "clean_text=preprocess_data(document_list)\n",
    "start,stop,step=2,12,1\n",
    "plot_graph(clean_text,start,stop,step)"
   ]
  },
  {
   "cell_type": "code",
   "execution_count": 50,
   "metadata": {},
   "outputs": [
    {
     "name": "stdout",
     "output_type": "stream",
     "text": [
      "[(0, '0.869*\"â\" + 0.155*\"trump\" + 0.136*\"say\" + 0.118*\"said\" + 0.075*\"would\" + 0.071*\"peopl\" + 0.070*\"clinton\" + 0.070*\"one\" + 0.059*\"year\" + 0.059*\"campaign\"'), (1, '0.389*\"citi\" + 0.372*\"v\" + 0.358*\"2016\" + 0.358*\"h\" + 0.356*\"2017\" + 0.165*\"unit\" + 0.160*\"west\" + 0.157*\"manchest\" + 0.116*\"apr\" + 0.112*\"dec\"'), (2, '0.330*\"eu\" + -0.307*\"trump\" + 0.244*\"say\" + -0.222*\"â\" + 0.215*\"would\" + 0.173*\"leav\" + 0.147*\"uk\" + -0.136*\"clinton\" + 0.134*\"said\" + 0.132*\"vote\"'), (3, '-0.454*\"trump\" + 0.276*\"min\" + -0.202*\"clinton\" + 0.201*\"â\" + -0.181*\"said\" + -0.175*\"campaign\" + -0.172*\"eu\" + -0.139*\"vote\" + -0.132*\"say\" + 0.124*\"goal\"'), (4, '0.391*\"min\" + 0.386*\"trump\" + -0.279*\"â\" + 0.181*\"clinton\" + 0.172*\"goal\" + 0.144*\"ball\" + 0.120*\"1\" + 0.114*\"0\" + 0.102*\"win\" + 0.100*\"leagu\"'), (5, '0.433*\"bank\" + -0.263*\"eu\" + -0.240*\"say\" + -0.190*\"min\" + 0.183*\"market\" + 0.176*\"year\" + 0.165*\"rate\" + -0.143*\"leav\" + 0.127*\"financi\" + -0.123*\"cameron\"'), (6, '0.615*\"say\" + -0.225*\"eu\" + -0.179*\"said\" + -0.174*\"vote\" + -0.140*\"poll\" + -0.120*\"campaign\" + 0.120*\"govern\" + -0.118*\"remain\" + -0.115*\"leav\" + 0.112*\"tax\"'), (7, '0.247*\"min\" + 0.246*\"bank\" + -0.206*\"like\" + -0.204*\"peopl\" + 0.171*\"say\" + -0.170*\"one\" + 0.167*\"â\" + 0.162*\"said\" + -0.149*\"film\" + -0.125*\"itâ\"')]\n"
     ]
    }
   ],
   "source": [
    "# LSA Model\n",
    "number_of_topics=8\n",
    "words=10\n",
    "model=create_gensim_lsa_model(clean_text,number_of_topics,words)\n"
   ]
  },
  {
   "cell_type": "code",
   "execution_count": 54,
   "metadata": {},
   "outputs": [
    {
     "data": {
      "text/plain": [
       "[(0,\n",
       "  '0.869*\"â\" + 0.155*\"trump\" + 0.136*\"say\" + 0.118*\"said\" + 0.075*\"would\" + 0.071*\"peopl\" + 0.070*\"clinton\" + 0.070*\"one\" + 0.059*\"year\" + 0.059*\"campaign\"'),\n",
       " (1,\n",
       "  '0.389*\"citi\" + 0.372*\"v\" + 0.358*\"2016\" + 0.358*\"h\" + 0.356*\"2017\" + 0.165*\"unit\" + 0.160*\"west\" + 0.157*\"manchest\" + 0.116*\"apr\" + 0.112*\"dec\"'),\n",
       " (2,\n",
       "  '0.330*\"eu\" + -0.307*\"trump\" + 0.244*\"say\" + -0.222*\"â\" + 0.215*\"would\" + 0.173*\"leav\" + 0.147*\"uk\" + -0.136*\"clinton\" + 0.134*\"said\" + 0.132*\"vote\"'),\n",
       " (3,\n",
       "  '-0.454*\"trump\" + 0.276*\"min\" + -0.202*\"clinton\" + 0.201*\"â\" + -0.181*\"said\" + -0.175*\"campaign\" + -0.172*\"eu\" + -0.139*\"vote\" + -0.132*\"say\" + 0.124*\"goal\"'),\n",
       " (4,\n",
       "  '0.391*\"min\" + 0.386*\"trump\" + -0.279*\"â\" + 0.181*\"clinton\" + 0.172*\"goal\" + 0.144*\"ball\" + 0.120*\"1\" + 0.114*\"0\" + 0.102*\"win\" + 0.100*\"leagu\"'),\n",
       " (5,\n",
       "  '0.433*\"bank\" + -0.263*\"eu\" + -0.240*\"say\" + -0.190*\"min\" + 0.183*\"market\" + 0.176*\"year\" + 0.165*\"rate\" + -0.143*\"leav\" + 0.127*\"financi\" + -0.123*\"cameron\"'),\n",
       " (6,\n",
       "  '0.615*\"say\" + -0.225*\"eu\" + -0.179*\"said\" + -0.174*\"vote\" + -0.140*\"poll\" + -0.120*\"campaign\" + 0.120*\"govern\" + -0.118*\"remain\" + -0.115*\"leav\" + 0.112*\"tax\"'),\n",
       " (7,\n",
       "  '0.247*\"min\" + 0.246*\"bank\" + -0.206*\"like\" + -0.204*\"peopl\" + 0.171*\"say\" + -0.170*\"one\" + 0.167*\"â\" + 0.162*\"said\" + -0.149*\"film\" + -0.125*\"itâ\"')]"
      ]
     },
     "execution_count": 54,
     "metadata": {},
     "output_type": "execute_result"
    }
   ],
   "source": [
    "model.print_topics()"
   ]
  },
  {
   "cell_type": "code",
   "execution_count": null,
   "metadata": {},
   "outputs": [],
   "source": []
  }
 ],
 "metadata": {
  "kernelspec": {
   "display_name": "py38",
   "language": "python",
   "name": "python3"
  },
  "language_info": {
   "codemirror_mode": {
    "name": "ipython",
    "version": 3
   },
   "file_extension": ".py",
   "mimetype": "text/x-python",
   "name": "python",
   "nbconvert_exporter": "python",
   "pygments_lexer": "ipython3",
   "version": "3.11.3"
  },
  "orig_nbformat": 4
 },
 "nbformat": 4,
 "nbformat_minor": 2
}
